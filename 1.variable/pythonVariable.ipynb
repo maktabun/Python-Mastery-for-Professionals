{
 "cells": [
  {
   "cell_type": "markdown",
   "metadata": {},
   "source": [
    "## Variable"
   ]
  },
  {
   "cell_type": "code",
   "execution_count": null,
   "metadata": {},
   "outputs": [],
   "source": [
    "name = \"Dipu\""
   ]
  },
  {
   "cell_type": "markdown",
   "metadata": {},
   "source": [
    "## Variable Assignment"
   ]
  },
  {
   "cell_type": "code",
   "execution_count": null,
   "metadata": {},
   "outputs": [],
   "source": [
    "x = 100\n",
    "print(x)"
   ]
  },
  {
   "cell_type": "markdown",
   "metadata": {},
   "source": [
    "## Variable Reassignment"
   ]
  },
  {
   "cell_type": "code",
   "execution_count": null,
   "metadata": {},
   "outputs": [],
   "source": [
    "x = 20\n",
    "print(x)\n",
    "y = x + 10\n",
    "\n",
    "x = 7\n",
    "print(x)\n",
    "\n",
    "c = x + 10\n",
    "\n",
    "print(y)\n",
    "print(c)"
   ]
  },
  {
   "cell_type": "code",
   "execution_count": 2,
   "metadata": {},
   "outputs": [],
   "source": []
  },
  {
   "cell_type": "markdown",
   "metadata": {},
   "source": [
    "## Multiple Assignment"
   ]
  },
  {
   "cell_type": "code",
   "execution_count": null,
   "metadata": {},
   "outputs": [],
   "source": [
    "x = y = z = 10\n",
    "print(y)"
   ]
  },
  {
   "cell_type": "code",
   "execution_count": null,
   "metadata": {},
   "outputs": [],
   "source": [
    "x, y, z = \"Rahim\", \"Karim\", \"Mohammad\"\n",
    "\n",
    "print(x)\n",
    "print(y)\n",
    "print(z)"
   ]
  },
  {
   "cell_type": "markdown",
   "metadata": {},
   "source": [
    "## Augmented Assignment"
   ]
  },
  {
   "cell_type": "code",
   "execution_count": null,
   "metadata": {},
   "outputs": [],
   "source": [
    "x = 10\n",
    "x += 1\n",
    "print(x)\n",
    "\n",
    "y = 5\n",
    "y **= 2\n",
    "\n"
   ]
  },
  {
   "cell_type": "code",
   "execution_count": null,
   "metadata": {},
   "outputs": [],
   "source": [
    "y = 10\n",
    "for i in range(1,10):\n",
    "    y += i\n",
    "    print(y)"
   ]
  },
  {
   "cell_type": "markdown",
   "metadata": {},
   "source": [
    "## Variable Naming Rules"
   ]
  },
  {
   "cell_type": "code",
   "execution_count": null,
   "metadata": {},
   "outputs": [],
   "source": [
    "amarNameSabuj = \"Shahed Ahmed\"\n",
    "\n",
    "for = \"Sabuj\"\n",
    "if\n",
    "\n",
    "@hello = \"Hello\""
   ]
  },
  {
   "cell_type": "markdown",
   "metadata": {},
   "source": [
    "## Variable Type"
   ]
  },
  {
   "cell_type": "code",
   "execution_count": null,
   "metadata": {},
   "outputs": [],
   "source": [
    "x = 100 # int\n",
    "y = 2.0 # Float\n",
    "z = \"Dipu\"\n",
    "a = 'Tanmoy'\n",
    "\n"
   ]
  },
  {
   "cell_type": "code",
   "execution_count": null,
   "metadata": {},
   "outputs": [],
   "source": [
    "age = 23\n",
    "\n",
    "name = \"Dipu\"\n",
    "\n",
    "print(f\"Name of my Nephew is {name} and his age is {age}\")"
   ]
  },
  {
   "cell_type": "code",
   "execution_count": null,
   "metadata": {},
   "outputs": [],
   "source": [
    "a = 23\n",
    "b = 34.45\n",
    "c = \"string\"\n",
    "d = False\n"
   ]
  },
  {
   "cell_type": "code",
   "execution_count": null,
   "metadata": {},
   "outputs": [],
   "source": [
    "x = \"Happy \"\n",
    "y = \"Coding\"\n",
    "z = x + y\n",
    "print(z)"
   ]
  },
  {
   "cell_type": "code",
   "execution_count": null,
   "metadata": {},
   "outputs": [],
   "source": [
    "name = \"    hello my name is Delower!     \" \n",
    "clean_name = name.strip()             # To remove the cotation mark form the code.\n",
    "print(clean_name)\n",
    "print(name.replace(\"my\", \"My\"))       # To replance the string word\n",
    "print(name.split())                   # To separate string at the specified\n",
    "print(name.capitalize())             # To capitalize the first letter of the strig.\n",
    "print(name.upper())                    # To capitalize all the letter of string.\n",
    "\n",
    "bean = \"HELLO WORLD\"\n",
    "print(bean.lower())                    # To smallize the string.\n",
    "\n",
    "jeny = \"hello world\"\n",
    "\n",
    "\n",
    "kavi = [\"hello \", \"computer, \", \"this is \", \"World\",\"8920\"]\n",
    "print(\" \".join(kavi))                  # To joint list in one sentence\n",
    "\n",
    "\n",
    "lavi = \"hello world put in air\"\n",
    "print(lavi.index(\"p\"))                # To find the index number of letter\n",
    "print(lavi.count(\"l\"))                # To count how many \"l\" is there\n",
    "print(lavi.find(\"put\"))               # To count the lowest position of \"put\" letter\n",
    "print(lavi.startswith(\"hello\"))       # To find if the code start with \"hello\"\n",
    "print(lavi.endswith(\"air\"))           # To find if the code finished with \"air\"\n",
    "\n",
    "javi = \"delower\"\n",
    "print(javi.isalpha())                 # To observe is this a alphabatic value\n",
    "      \n",
    "navi = \"8920\"\n",
    "print(navi.isdigit())                 # To observe is this a numaric value  \n",
    " \n",
    "davi = \"delower8920\"\n",
    "print(davi.isalnum())                 # To observe is this a alphanumaric value\n",
    "\n",
    "doli =\"     \"\n",
    "print(doli.isspace())                 # To finnd is this a space "
   ]
  },
  {
   "cell_type": "markdown",
   "metadata": {},
   "source": [
    "## Dynamic Typing"
   ]
  },
  {
   "cell_type": "code",
   "execution_count": null,
   "metadata": {},
   "outputs": [],
   "source": [
    "x = 10\n",
    "\n",
    "x = \"Karim\"\n",
    "print(x)"
   ]
  },
  {
   "cell_type": "markdown",
   "metadata": {},
   "source": [
    "## Type Conversion (Casting)"
   ]
  },
  {
   "cell_type": "code",
   "execution_count": null,
   "metadata": {},
   "outputs": [],
   "source": [
    "#  Implicit Conversion\n",
    "num_int = 10\n",
    "num_float = 5.5\n",
    "result = num_int + num_float  # Python automatically converts num_int to float\n",
    "print(\"Result:\", result)"
   ]
  },
  {
   "cell_type": "code",
   "execution_count": null,
   "metadata": {},
   "outputs": [],
   "source": [
    "# Explicit Conversion\n",
    "num_str = \"15\"\n",
    "num_int = int(num_str)  # Using int() to convert num_str to an integer\n",
    "print(\"Converted Integer:\", num_int)"
   ]
  },
  {
   "cell_type": "code",
   "execution_count": null,
   "metadata": {},
   "outputs": [],
   "source": [
    "# Using Type Casting for User Input\n",
    "user_input = input(\"Enter a number: \")  # User enters \"10\"\n",
    "num_int = int(user_input)  # Explicitly converting user input to an integer\n",
    "result = num_int * 2\n",
    "print(\"Result:\", result)  # Output: Result: 20"
   ]
  },
  {
   "cell_type": "markdown",
   "metadata": {},
   "source": [
    "## None Type"
   ]
  },
  {
   "cell_type": "code",
   "execution_count": null,
   "metadata": {},
   "outputs": [],
   "source": [
    "bar = \"something\"\n",
    "foo = None\n",
    "print(foo + bar)"
   ]
  },
  {
   "cell_type": "markdown",
   "metadata": {},
   "source": [
    "## Variable Scope"
   ]
  },
  {
   "cell_type": "code",
   "execution_count": null,
   "metadata": {},
   "outputs": [],
   "source": [
    "x = \"Mehedi\"\n",
    "\n",
    "def myFunction():\n",
    "    x = \"Kamal\"\n",
    "    print(x)\n",
    "\n",
    "myFunction()\n",
    "print(x)"
   ]
  },
  {
   "cell_type": "markdown",
   "metadata": {},
   "source": [
    "## Local scope"
   ]
  },
  {
   "cell_type": "code",
   "execution_count": null,
   "metadata": {},
   "outputs": [],
   "source": [
    "def my_function():\n",
    "    x = 10  # Local variable\n",
    "    print(x)\n",
    "\n",
    "my_function()  # Output: 10\n",
    "print(x)  # Error: NameError, as x is not accessible outside the function\n"
   ]
  },
  {
   "cell_type": "markdown",
   "metadata": {},
   "source": [
    "## Enclosing Scope"
   ]
  },
  {
   "cell_type": "code",
   "execution_count": null,
   "metadata": {},
   "outputs": [],
   "source": [
    "def outer_function():\n",
    "    y = 20  # Enclosing variable\n",
    "\n",
    "    def inner_function():\n",
    "        print(y)  # Accessing the enclosing variable\n",
    "\n",
    "    inner_function()\n",
    "\n",
    "outer_function()  # Output: 20\n"
   ]
  },
  {
   "cell_type": "code",
   "execution_count": null,
   "metadata": {},
   "outputs": [],
   "source": [
    "def outer_function():\n",
    "    x = \"Hello from outer function\"\n",
    "    \n",
    "    def inner_function():\n",
    "        print(x)  # 'x' is found in the enclosing scope (outer_function)\n",
    "    \n",
    "    inner_function()\n",
    "\n",
    "outer_function()\n"
   ]
  },
  {
   "cell_type": "code",
   "execution_count": null,
   "metadata": {},
   "outputs": [],
   "source": [
    "def outer_function():\n",
    "    x = \"Hello\"\n",
    "    \n",
    "    def inner_function():\n",
    "        nonlocal x\n",
    "        x = \"Hello from inner function\"\n",
    "    \n",
    "    inner_function()\n",
    "    print(x)  # 'x' is modified by inner_function\n",
    "\n",
    "outer_function()\n"
   ]
  },
  {
   "cell_type": "code",
   "execution_count": null,
   "metadata": {},
   "outputs": [],
   "source": [
    "def outer_function(msg):\n",
    "    def inner_function():\n",
    "        print(msg)  # 'msg' is in the enclosing scope (outer_function)\n",
    "    return inner_function\n",
    "\n",
    "my_func = outer_function(\"Hello from closure\")\n",
    "my_func()\n"
   ]
  },
  {
   "cell_type": "markdown",
   "metadata": {},
   "source": [
    "## Global Scope"
   ]
  },
  {
   "cell_type": "code",
   "execution_count": null,
   "metadata": {},
   "outputs": [],
   "source": [
    "z = 30  # Global variable\n",
    "\n",
    "def my_function():\n",
    "    print(z)\n",
    "\n",
    "my_function()  # Output: 30\n",
    "print(z)  # Output: 30\n"
   ]
  },
  {
   "cell_type": "code",
   "execution_count": null,
   "metadata": {},
   "outputs": [],
   "source": [
    "x = \"Mehedi\"\n",
    "\n",
    "def myFunction():\n",
    "    global x\n",
    "    x = \"Kamal\"\n",
    "    print(x)\n",
    "\n",
    "myFunction()\n",
    "print(x)"
   ]
  },
  {
   "cell_type": "markdown",
   "metadata": {},
   "source": [
    "## Built-in Scope"
   ]
  },
  {
   "cell_type": "code",
   "execution_count": null,
   "metadata": {},
   "outputs": [],
   "source": [
    "print(len([1, 2, 3]))  # len is a built-in function, Output: 3"
   ]
  },
  {
   "cell_type": "markdown",
   "metadata": {},
   "source": [
    "## Constants"
   ]
  },
  {
   "cell_type": "code",
   "execution_count": null,
   "metadata": {},
   "outputs": [],
   "source": [
    "PI = 3.14159\n",
    "GRAVITY = 9.81\n",
    "MAX_CONNECTIONS = 100"
   ]
  }
 ],
 "metadata": {
  "kernelspec": {
   "display_name": "env",
   "language": "python",
   "name": "python3"
  },
  "language_info": {
   "codemirror_mode": {
    "name": "ipython",
    "version": 3
   },
   "file_extension": ".py",
   "mimetype": "text/x-python",
   "name": "python",
   "nbconvert_exporter": "python",
   "pygments_lexer": "ipython3",
   "version": "3.12.3"
  }
 },
 "nbformat": 4,
 "nbformat_minor": 2
}
