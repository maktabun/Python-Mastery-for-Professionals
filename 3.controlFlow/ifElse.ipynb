{
 "cells": [
  {
   "cell_type": "code",
   "execution_count": null,
   "metadata": {},
   "outputs": [],
   "source": [
    "age = 18\n",
    "if age >= 18:\n",
    "    status = \"Adult\"\n",
    "else: status = \"Minor\"\n",
    "\n",
    "print(status)\n",
    "\n",
    "status = \"Adult\" if age >= 18 else \"Minor\"\n",
    "print(status)"
   ]
  },
  {
   "cell_type": "code",
   "execution_count": null,
   "metadata": {},
   "outputs": [],
   "source": [
    "score = 85\n",
    "if score >=90:\n",
    "    grade = \"A\"\n",
    "elif score >=80:\n",
    "    grade = \"B\"\n",
    "else:\n",
    "    grade = \"C\"\n",
    "\n",
    "print(grade)\n",
    "\n",
    "grade = \"A\" if score >= 90 else \"B\" if score >=80 else \"C\"\n",
    "print(grade)"
   ]
  },
  {
   "cell_type": "code",
   "execution_count": null,
   "metadata": {},
   "outputs": [],
   "source": [
    "age = 20\n",
    "has_id = True\n",
    "if age >= 18:\n",
    "    if has_id:\n",
    "        access = \"Granted\"\n",
    "    else:\n",
    "        access = \"ID required\"\n",
    "else:\n",
    "    access = \"Denied\"\n",
    "\n",
    "print(access)\n",
    "\n",
    "access = \"Granted\" if age >= 18 and has_id else \"ID required\" if age>=18 else \"Denied\"\n",
    "print(access)"
   ]
  }
 ],
 "metadata": {
  "kernelspec": {
   "display_name": "env",
   "language": "python",
   "name": "python3"
  },
  "language_info": {
   "codemirror_mode": {
    "name": "ipython",
    "version": 3
   },
   "file_extension": ".py",
   "mimetype": "text/x-python",
   "name": "python",
   "nbconvert_exporter": "python",
   "pygments_lexer": "ipython3",
   "version": "3.12.3"
  }
 },
 "nbformat": 4,
 "nbformat_minor": 2
}
