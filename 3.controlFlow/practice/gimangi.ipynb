{
 "cells": [
  {
   "cell_type": "code",
   "execution_count": 5,
   "metadata": {},
   "outputs": [
    {
     "name": "stdout",
     "output_type": "stream",
     "text": [
      "x is equal to 10\n"
     ]
    }
   ],
   "source": [
    "\n",
    "x = 10 \n",
    "if x > 15:\n",
    "    print(\"x is grater than 15\")\n",
    "elif x > 10:\n",
    "    print(\"x is gater than 10 but less than 15\")    \n",
    "elif x == 10:\n",
    "    print (\"x is equal to 10\")\n",
    "else:\n",
    "    print(\"x is less than 10\")"
   ]
  },
  {
   "cell_type": "code",
   "execution_count": 8,
   "metadata": {},
   "outputs": [
    {
     "name": "stdout",
     "output_type": "stream",
     "text": [
      "Number is equal to 10\n"
     ]
    }
   ],
   "source": [
    "number = 10\n",
    "if number > 20:\n",
    "    print(\"Number is gater than 0\")\n",
    "elif number < 0:\n",
    "    print(\"Number is negative number\")\n",
    "else: \n",
    "    print(\"Number is equal to 10\")"
   ]
  },
  {
   "cell_type": "code",
   "execution_count": 12,
   "metadata": {},
   "outputs": [
    {
     "name": "stdout",
     "output_type": "stream",
     "text": [
      "Be happy with this money\n"
     ]
    }
   ],
   "source": [
    "balance = 500\n",
    "if balance < 500:\n",
    "    print(\"I don't need money\")\n",
    "elif balance > 500:\n",
    "    print(\"I need money\")\n",
    "elif balance <= 300:\n",
    "    print(\"I can do the work\")\n",
    "elif balance == 500:\n",
    "    print(\"Be happy with this money\")"
   ]
  },
  {
   "cell_type": "code",
   "execution_count": 1,
   "metadata": {},
   "outputs": [
    {
     "name": "stdout",
     "output_type": "stream",
     "text": [
      "beter luck next time\n"
     ]
    }
   ],
   "source": [
    "total_Mark = 300\n",
    "if total_Mark >= 500:\n",
    "    print(\"you will get A+\")\n",
    "elif total_Mark >= 400:\n",
    "    print(\"you will get A\")\n",
    "elif total_Mark >= 350:\n",
    "    print(\"you will get A-\")\n",
    "elif total_Mark == 320:\n",
    "    print(\"you will get B\")\n",
    "elif total_Mark > 300:\n",
    "    print(\"you will pass the exam\")\n",
    "elif total_Mark > 200:\n",
    "    print(\"beter luck next time\")\n"
   ]
  },
  {
   "cell_type": "code",
   "execution_count": 20,
   "metadata": {},
   "outputs": [
    {
     "name": "stdout",
     "output_type": "stream",
     "text": [
      "i am ready to go\n"
     ]
    }
   ],
   "source": [
    "money = 1000\n",
    "travel = (money/2)\n",
    "if money <1000:\n",
    "    print(\"i neet more more money\")\n",
    "elif travel >400:\n",
    "    print(\"i am ready to go\")\n",
    "elif money >=1500:\n",
    "    print(\"i don't need money\")\n",
    "elif money == 1000:\n",
    "    print(\"hello world\")\n"
   ]
  },
  {
   "cell_type": "code",
   "execution_count": 22,
   "metadata": {},
   "outputs": [
    {
     "name": "stdout",
     "output_type": "stream",
     "text": [
      "sabid is a good boy\n"
     ]
    }
   ],
   "source": [
    "sabid_harami = 100\n",
    "if sabid_harami < 50:\n",
    "    print(\"hei budai\")\n",
    "elif sabid_harami <60:\n",
    "    print(\"hei budai\")\n",
    "elif sabid_harami == 100:\n",
    "    print(\"sabid is a good boy\")"
   ]
  },
  {
   "cell_type": "code",
   "execution_count": 4,
   "metadata": {},
   "outputs": [
    {
     "name": "stdout",
     "output_type": "stream",
     "text": [
      "Your will rank in the exam\n"
     ]
    }
   ],
   "source": [
    "total_marks = 700\n",
    "if total_marks <= 300:\n",
    "  print(\"you will get C\")\n",
    "elif total_marks <= 350:\n",
    "  print(\"you will get C+\")\n",
    "elif total_marks <= 400:\n",
    "  print(\"you will get B\")  \n",
    "elif total_marks <= 450:\n",
    "    print(\"you will get B+\")\n",
    "elif total_marks <= 500:\n",
    "  print(\"you will get A-\")\n",
    "elif total_marks <= 600:\n",
    "  print(\"you will get A+\") \n",
    "elif total_marks <= 800:\n",
    "  print(\"Your will rank in the exam\") \n"
   ]
  },
  {
   "cell_type": "code",
   "execution_count": 6,
   "metadata": {},
   "outputs": [
    {
     "name": "stdout",
     "output_type": "stream",
     "text": [
      "<class 'float'>\n"
     ]
    }
   ],
   "source": [
    "delower = 23.34\n",
    "print(type(delower))"
   ]
  },
  {
   "cell_type": "code",
   "execution_count": 10,
   "metadata": {},
   "outputs": [
    {
     "name": "stdout",
     "output_type": "stream",
     "text": [
      "na na ta hobe na.ha ha hahah\n"
     ]
    }
   ],
   "source": [
    "mehedi = 520\n",
    "orio = 430\n",
    "if mehedi < orio :\n",
    "    print(\"ami apnar theke besi\")\n",
    "\n",
    "elif mehedi <= orio:\n",
    "    print(\"asolei tai.\")\n",
    "elif mehedi == orio:\n",
    "    print(\"yes yes yes\")\n",
    "else:\n",
    "    print(\"na na ta hobe na.ha ha hahah\")"
   ]
  },
  {
   "cell_type": "code",
   "execution_count": 2,
   "metadata": {},
   "outputs": [],
   "source": [
    "def add (x,y):\n",
    "    sum = x+y\n",
    "    print(sum)\n",
    "    add(10,20)"
   ]
  },
  {
   "cell_type": "code",
   "execution_count": 2,
   "metadata": {},
   "outputs": [
    {
     "name": "stdout",
     "output_type": "stream",
     "text": [
      "23\n"
     ]
    }
   ],
   "source": [
    "a = \"2\"\n",
    "b = \"3\"\n",
    "print( a + b )"
   ]
  }
 ],
 "metadata": {
  "kernelspec": {
   "display_name": "Python 3",
   "language": "python",
   "name": "python3"
  },
  "language_info": {
   "codemirror_mode": {
    "name": "ipython",
    "version": 3
   },
   "file_extension": ".py",
   "mimetype": "text/x-python",
   "name": "python",
   "nbconvert_exporter": "python",
   "pygments_lexer": "ipython3",
   "version": "3.12.3"
  }
 },
 "nbformat": 4,
 "nbformat_minor": 2
}
