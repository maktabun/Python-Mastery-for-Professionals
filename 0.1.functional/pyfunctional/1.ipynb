{
 "cells": [
  {
   "cell_type": "code",
   "execution_count": 1,
   "id": "e4e0a3bc",
   "metadata": {},
   "outputs": [
    {
     "name": "stdout",
     "output_type": "stream",
     "text": [
      "12\n"
     ]
    }
   ],
   "source": [
    "from functional import seq\n",
    "\n",
    "# Double numbers and sum them\n",
    "result = seq([1, 2, 3]).map(lambda x: x * 2).reduce(lambda x, y: x + y)\n",
    "print(result)  # Output: 12 (2+4+6)"
   ]
  }
 ],
 "metadata": {
  "kernelspec": {
   "display_name": "env",
   "language": "python",
   "name": "python3"
  },
  "language_info": {
   "codemirror_mode": {
    "name": "ipython",
    "version": 3
   },
   "file_extension": ".py",
   "mimetype": "text/x-python",
   "name": "python",
   "nbconvert_exporter": "python",
   "pygments_lexer": "ipython3",
   "version": "3.12.3"
  }
 },
 "nbformat": 4,
 "nbformat_minor": 5
}
