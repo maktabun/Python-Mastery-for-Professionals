{
 "cells": [
  {
   "cell_type": "code",
   "execution_count": null,
   "id": "b21d3e2a",
   "metadata": {},
   "outputs": [],
   "source": [
    "import json\n",
    "\n",
    "# Sample data: a Python dictionary\n",
    "data = {\n",
    "    \"name\": \"Alice\",\n",
    "    \"age\": 30,\n",
    "    \"city\": \"New York\",\n",
    "    \"hobbies\": [\"reading\", \"coding\"]\n",
    "}\n",
    "\n",
    "# Writing to a JSON file\n",
    "with open('data.json', 'w') as file:\n",
    "    json.dump(data, file, indent=4)  # indent=4 for pretty-printing\n",
    "\n",
    "print(\"Data written to 'data.json'.\")\n",
    "\n",
    "# Reading from the JSON file\n",
    "with open('data.json', 'r') as file:\n",
    "    loaded_data = json.load(file)\n",
    "\n",
    "print(\"Loaded data:\", loaded_data)\n",
    "print(\"Accessing a value:\", loaded_data[\"name\"])"
   ]
  }
 ],
 "metadata": {
  "kernelspec": {
   "display_name": "env",
   "language": "python",
   "name": "python3"
  },
  "language_info": {
   "codemirror_mode": {
    "name": "ipython",
    "version": 3
   },
   "file_extension": ".py",
   "mimetype": "text/x-python",
   "name": "python",
   "nbconvert_exporter": "python",
   "pygments_lexer": "ipython3",
   "version": "3.12.3"
  }
 },
 "nbformat": 4,
 "nbformat_minor": 5
}
