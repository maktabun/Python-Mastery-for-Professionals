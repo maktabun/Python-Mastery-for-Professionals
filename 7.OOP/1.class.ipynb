{
 "cells": [
  {
   "cell_type": "markdown",
   "metadata": {},
   "source": [
    "## Defining a class"
   ]
  },
  {
   "cell_type": "code",
   "execution_count": null,
   "metadata": {},
   "outputs": [],
   "source": [
    "class Enemy:\n",
    "    life =3\n",
    "    energy = 10\n",
    "\n",
    "print(Enemy.life)\n",
    "print(Enemy.energy)"
   ]
  },
  {
   "cell_type": "code",
   "execution_count": null,
   "metadata": {},
   "outputs": [],
   "source": [
    "class Enemy():\n",
    "    life =3\n",
    "    energy = 10\n",
    "\n",
    "print(Enemy.life)\n",
    "print(Enemy.energy)"
   ]
  },
  {
   "cell_type": "markdown",
   "metadata": {},
   "source": [
    "## class method"
   ]
  },
  {
   "cell_type": "code",
   "execution_count": null,
   "metadata": {},
   "outputs": [],
   "source": [
    "class Enemy:\n",
    "    life = 3\n",
    "\n",
    "    def attack():\n",
    "        print(\"life\")\n",
    "print(type(Enemy.attack))\n",
    "print(Enemy.life)\n",
    "Enemy.attack()\n",
    "enemy = Enemy()\n",
    "try:\n",
    "    enemy.attack()  # This should raise TypeError if attack is an instance method\n",
    "except TypeError as e:\n",
    "    print(e)"
   ]
  },
  {
   "cell_type": "code",
   "execution_count": null,
   "metadata": {},
   "outputs": [],
   "source": [
    "class Enemy:\n",
    "    life = 3\n",
    "\n",
    "    @classmethod\n",
    "    def attack(cls):\n",
    "        print(cls.life)\n",
    "\n",
    "# Access class attribute\n",
    "print(Enemy.life)\n",
    "\n",
    "# Call class method\n",
    "Enemy.attack()"
   ]
  },
  {
   "cell_type": "code",
   "execution_count": null,
   "metadata": {},
   "outputs": [],
   "source": [
    "class Date:\n",
    "    def __init__(self, year, month, day):\n",
    "        self.year = year\n",
    "        self.month = month\n",
    "        self.day = day\n",
    "\n",
    "    @classmethod\n",
    "    def from_string(cls, date_str):\n",
    "        year, month, day = map(int, date_str.split('-'))\n",
    "        return cls(year, month, day)\n",
    "\n",
    "date1 = Date(2024, 7, 12)\n",
    "date2 = Date.from_string(\"2024-07-12\")\n",
    "print(date1.year, date1.month, date1.day)  # Output: 2024 7 12\n",
    "print(date2.year, date2.month, date2.day)  # Output: 2024 7 12\n"
   ]
  },
  {
   "cell_type": "code",
   "execution_count": null,
   "metadata": {},
   "outputs": [],
   "source": [
    "class Employee:\n",
    "    raise_amount = 1.05\n",
    "\n",
    "    def __init__(self, name, salary):\n",
    "        self.name = name\n",
    "        self.salary = salary\n",
    "\n",
    "    @classmethod\n",
    "    def set_raise_amount(cls, amount):\n",
    "        cls.raise_amount = amount\n",
    "\n",
    "    def apply_raise(self):\n",
    "        self.salary = int(self.salary * Employee.raise_amount)\n",
    "\n",
    "emp1 = Employee(\"Alice\", 50000)\n",
    "emp2 = Employee(\"Bob\", 60000)\n",
    "\n",
    "Employee.set_raise_amount(1.10)\n",
    "emp1.apply_raise()\n",
    "emp2.apply_raise()\n",
    "print(emp1.salary)  # Output: 55000\n",
    "print(emp2.salary)  # Output: 66000\n"
   ]
  },
  {
   "cell_type": "code",
   "execution_count": null,
   "metadata": {},
   "outputs": [],
   "source": [
    "class Database:\n",
    "    connections = 0\n",
    "\n",
    "    def __init__(self):\n",
    "        Database.connections += 1\n",
    "\n",
    "    @classmethod\n",
    "    def reset_connections(cls):\n",
    "        cls.connections = 0\n",
    "\n",
    "db1 = Database()\n",
    "db2 = Database()\n",
    "print(Database.connections)  # Output: 2\n",
    "Database.reset_connections()\n",
    "print(Database.connections)  # Output: 0\n"
   ]
  },
  {
   "cell_type": "markdown",
   "metadata": {},
   "source": [
    "## Enum Class"
   ]
  },
  {
   "cell_type": "code",
   "execution_count": null,
   "metadata": {},
   "outputs": [],
   "source": [
    "from enum import Enum\n",
    "\n",
    "class Color(Enum):\n",
    "    RED = 1\n",
    "    GREEN = 2\n",
    "    BLUE = 3\n",
    "\n",
    "# Accessing enum members\n",
    "print(Color.RED)        # Output: Color.RED\n",
    "print(Color.GREEN)      # Output: Color.GREEN\n",
    "print(Color.BLUE)       # Output: Color.BLUE\n",
    "\n",
    "# Getting the name and value of an enum member\n",
    "print(Color.RED.name)   # Output: RED\n",
    "print(Color.RED.value)  # Output: 1\n",
    "\n",
    "# Iterating over enum members\n",
    "for color in Color:\n",
    "    print(color)\n"
   ]
  },
  {
   "cell_type": "code",
   "execution_count": null,
   "metadata": {},
   "outputs": [],
   "source": [
    "from enum import Enum\n",
    "\n",
    "class Color(Enum):\n",
    "    RED = 1\n",
    "    GREEN = 2\n",
    "    BLUE = 3\n",
    "\n",
    "# Accessing enumeration members\n",
    "print(Color.RED)      # Output: Color.RED\n",
    "print(Color.GREEN)    # Output: Color.GREEN\n",
    "print(Color.BLUE)     # Output: Color.BLUE\n",
    "\n",
    "# Accessing the name and value of an enumeration member\n",
    "print(Color.RED.name)  # Output: RED\n",
    "print(Color.RED.value) # Output: 1\n",
    "\n",
    "# Iterating over the members of an enumeration\n",
    "for color in Color:\n",
    "    print(color)\n",
    "\n",
    "# Comparing enumeration members\n",
    "print(Color.RED == Color.RED)   # Output: True\n",
    "print(Color.RED == Color.GREEN) # Output: False\n"
   ]
  },
  {
   "cell_type": "code",
   "execution_count": null,
   "metadata": {},
   "outputs": [],
   "source": [
    "from enum import Enum\n",
    "\n",
    "class Color(Enum):\n",
    "    RED = 1\n",
    "    GREEN = 2\n",
    "    BLUE = 3\n",
    "\n",
    "    def is_primary(self):\n",
    "        return self in (Color.RED, Color.GREEN, Color.BLUE)\n",
    "\n",
    "# Using the is_primary method\n",
    "print(Color.RED.is_primary())   # Output: True\n",
    "print(Color.GREEN.is_primary()) # Output: True\n",
    "print(Color.BLUE.is_primary())  # Output: True\n"
   ]
  },
  {
   "cell_type": "code",
   "execution_count": null,
   "metadata": {},
   "outputs": [],
   "source": [
    "from enum import Enum\n",
    "\n",
    "class Status(Enum):\n",
    "    PENDING = \"pending\"\n",
    "    ACTIVE = \"active\"\n",
    "    INACTIVE = \"inactive\"\n",
    "\n",
    "# Accessing enumeration members\n",
    "print(Status.PENDING)      # Output: Status.PENDING\n",
    "print(Status.PENDING.value) # Output: pending\n"
   ]
  },
  {
   "cell_type": "markdown",
   "metadata": {},
   "source": [
    "## Inner/nested classes And Outer Class\n"
   ]
  },
  {
   "cell_type": "code",
   "execution_count": null,
   "metadata": {},
   "outputs": [],
   "source": [
    "class OuterClass:\n",
    "    def __init__(self, outer_value):\n",
    "        self.outer_value = outer_value\n",
    "\n",
    "    class InnerClass:\n",
    "        def __init__(self, inner_value):\n",
    "            self.inner_value = inner_value\n",
    "        \n",
    "        def display_inner(self):\n",
    "            return f\"Inner value: {self.inner_value}\"\n",
    "\n",
    "    def display_outer(self):\n",
    "        return f\"Outer value: {self.outer_value}\"\n",
    "\n",
    "# Usage\n",
    "outer = OuterClass(\"outer value\")\n",
    "inner = outer.InnerClass(\"inner value\")\n",
    "\n",
    "print(outer.display_outer())  # Output: Outer value: outer value\n",
    "print(inner.display_inner())  # Output: Inner value: inner value\n"
   ]
  },
  {
   "cell_type": "code",
   "execution_count": null,
   "metadata": {},
   "outputs": [],
   "source": []
  },
  {
   "cell_type": "code",
   "execution_count": null,
   "metadata": {},
   "outputs": [],
   "source": []
  },
  {
   "cell_type": "code",
   "execution_count": null,
   "metadata": {},
   "outputs": [],
   "source": []
  }
 ],
 "metadata": {
  "kernelspec": {
   "display_name": "env",
   "language": "python",
   "name": "python3"
  },
  "language_info": {
   "codemirror_mode": {
    "name": "ipython",
    "version": 3
   },
   "file_extension": ".py",
   "mimetype": "text/x-python",
   "name": "python",
   "nbconvert_exporter": "python",
   "pygments_lexer": "ipython3",
   "version": "3.12.3"
  }
 },
 "nbformat": 4,
 "nbformat_minor": 2
}
